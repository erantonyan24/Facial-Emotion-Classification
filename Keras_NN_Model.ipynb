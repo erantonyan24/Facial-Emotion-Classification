{
 "cells": [
  {
   "cell_type": "code",
   "execution_count": 1,
   "id": "36ff9a3c-e265-408b-b6c1-9ecd23c2dc42",
   "metadata": {},
   "outputs": [],
   "source": [
    "import numpy as np\n",
    "import pandas as pd\n",
    "import seaborn as sns\n",
    "import matplotlib.pyplot as plt\n",
    "import matplotlib.image as mpimg\n",
    "import cv2\n",
    "import os\n",
    "from keras.utils import to_categorical\n",
    "from sklearn.preprocessing import LabelEncoder"
   ]
  },
  {
   "cell_type": "markdown",
   "id": "23799974-6d82-41a6-9576-c5a29ceb6a87",
   "metadata": {},
   "source": [
    "# Train and Test data"
   ]
  },
  {
   "cell_type": "code",
   "execution_count": 2,
   "id": "29a831c3-a0f9-4d8f-9be2-5b39ec3fbaf1",
   "metadata": {},
   "outputs": [],
   "source": [
    "X_train = []\n",
    "y_train = []\n",
    "\n",
    "for i in os.listdir('train/'):\n",
    "    for j in os.listdir(f'train/{i}'):\n",
    "        img = mpimg.imread(f'train/{i}/{j}')\n",
    "        img = img.reshape(48, 48, 1)\n",
    "        X_train.append(img)\n",
    "        y_train.append(i)\n",
    "X_train = np.array(X_train)\n",
    "y_train = np.array(y_train)"
   ]
  },
  {
   "cell_type": "code",
   "execution_count": 3,
   "id": "6cc35c5c-e0ea-4ef2-b7d7-5507f23dad2c",
   "metadata": {},
   "outputs": [],
   "source": [
    "X_test = []\n",
    "y_test = []\n",
    "\n",
    "for i in os.listdir('test/'):\n",
    "    for j in os.listdir(f'test/{i}'):\n",
    "        img = mpimg.imread(f'test/{i}/{j}')\n",
    "        img = img.reshape(48, 48, 1)\n",
    "        X_test.append(img)\n",
    "        y_test.append(i)\n",
    "X_test = np.array(X_test)\n",
    "y_test = np.array(y_test)"
   ]
  },
  {
   "cell_type": "code",
   "execution_count": 8,
   "id": "35c6b0ce-597b-490d-bbd0-3927a65deb3d",
   "metadata": {},
   "outputs": [
    {
     "data": {
      "text/plain": [
       "(28709, 48, 48, 1)"
      ]
     },
     "execution_count": 8,
     "metadata": {},
     "output_type": "execute_result"
    }
   ],
   "source": [
    "X_train.shape"
   ]
  },
  {
   "cell_type": "code",
   "execution_count": 9,
   "id": "fad9dd1b-d665-4f44-92c3-59d8c5b7adc0",
   "metadata": {},
   "outputs": [
    {
     "data": {
      "text/plain": [
       "(7178, 48, 48, 1)"
      ]
     },
     "execution_count": 9,
     "metadata": {},
     "output_type": "execute_result"
    }
   ],
   "source": [
    "X_test.shape"
   ]
  },
  {
   "cell_type": "code",
   "execution_count": 10,
   "id": "c504896c-9b2f-4f8b-8125-4e3fa36dd2d1",
   "metadata": {},
   "outputs": [
    {
     "data": {
      "text/plain": [
       "(28709,)"
      ]
     },
     "execution_count": 10,
     "metadata": {},
     "output_type": "execute_result"
    }
   ],
   "source": [
    "y_train.shape"
   ]
  },
  {
   "cell_type": "code",
   "execution_count": 11,
   "id": "cce48af3-f02a-49a5-8374-748d66797bc3",
   "metadata": {},
   "outputs": [
    {
     "data": {
      "text/plain": [
       "(7178,)"
      ]
     },
     "execution_count": 11,
     "metadata": {},
     "output_type": "execute_result"
    }
   ],
   "source": [
    "y_test.shape"
   ]
  },
  {
   "cell_type": "code",
   "execution_count": 5,
   "id": "07e578d5-72a6-4f0a-afe2-9a4f8d42d42b",
   "metadata": {},
   "outputs": [],
   "source": [
    "label = LabelEncoder()\n",
    "y_train_label = label.fit_transform(y_train)\n",
    "y_test_label = label.transform(y_test)"
   ]
  },
  {
   "cell_type": "code",
   "execution_count": 6,
   "id": "758f11d7-ad98-47fc-8426-b92e9cb417d6",
   "metadata": {},
   "outputs": [],
   "source": [
    "y_train_cat = to_categorical(y_train_label , num_classes=7)\n",
    "y_test_cat = to_categorical(y_test_label , num_classes=7)"
   ]
  },
  {
   "cell_type": "code",
   "execution_count": 7,
   "id": "d5b2dc9c-f0ea-4b49-9cd9-0680ef02899d",
   "metadata": {},
   "outputs": [
    {
     "data": {
      "text/plain": [
       "array([[1., 0., 0., ..., 0., 0., 0.],\n",
       "       [1., 0., 0., ..., 0., 0., 0.],\n",
       "       [1., 0., 0., ..., 0., 0., 0.],\n",
       "       ...,\n",
       "       [0., 0., 0., ..., 0., 0., 1.],\n",
       "       [0., 0., 0., ..., 0., 0., 1.],\n",
       "       [0., 0., 0., ..., 0., 0., 1.]])"
      ]
     },
     "execution_count": 7,
     "metadata": {},
     "output_type": "execute_result"
    }
   ],
   "source": []
  },
  {
   "cell_type": "markdown",
   "id": "99d1824e-bc3a-435b-afb8-0e0035ace9f1",
   "metadata": {},
   "source": [
    "# Keraas Model NN"
   ]
  },
  {
   "cell_type": "code",
   "execution_count": 9,
   "id": "0bd92821-fce4-4eed-9260-869877c71498",
   "metadata": {},
   "outputs": [],
   "source": [
    "from keras import Sequential\n",
    "from keras.layers import Conv2D , MaxPooling2D , Flatten , Dense , BatchNormalization , Dropout\n",
    "from keras.optimizers import Adam"
   ]
  },
  {
   "cell_type": "code",
   "execution_count": 72,
   "id": "a77fa985-68c5-4850-966a-3888c24d04e7",
   "metadata": {},
   "outputs": [],
   "source": [
    "model = Sequential()\n",
    "\n",
    "model.add(Conv2D(filters=256, kernel_size=(5, 5), activation='relu'))\n",
    "model.add(MaxPooling2D(pool_size=(2, 2)))\n",
    "\n",
    "model.add(Conv2D(filters=128, kernel_size=(5, 5), activation='relu'))\n",
    "model.add(MaxPooling2D(pool_size=(2, 2)))\n",
    "\n",
    "\n",
    "\n",
    "model.add(Flatten())\n",
    "\n",
    "model.add(Dense(units=512 , activation='relu'))\n",
    "model.add(Dropout(0.5))\n",
    "model.add(Dense(units=256 , activation='relu'))\n",
    "model.add(Dense(units=7 , activation='sigmoid'))"
   ]
  },
  {
   "cell_type": "code",
   "execution_count": 73,
   "id": "98d30c73-33da-4d88-87c5-36671a0e0a2b",
   "metadata": {},
   "outputs": [],
   "source": [
    "model.compile(optimizer=Adam(learning_rate=0.1), loss='categorical_crossentropy' , metrics=(['accuracy']))"
   ]
  },
  {
   "cell_type": "code",
   "execution_count": null,
   "id": "8884b170-0095-4401-9dd7-b244eece5ac0",
   "metadata": {
    "scrolled": true
   },
   "outputs": [
    {
     "name": "stdout",
     "output_type": "stream",
     "text": [
      "Epoch 1/5\n",
      "\u001b[1m 96/225\u001b[0m \u001b[32m━━━━━━━━\u001b[0m\u001b[37m━━━━━━━━━━━━\u001b[0m \u001b[1m2:29\u001b[0m 1s/step - accuracy: 0.1872 - loss: 377940.6250"
     ]
    }
   ],
   "source": [
    "model.fit(X_train , y_train_cat , validation_data=(X_test , y_test_cat) , epochs=5 , batch_size=128)"
   ]
  },
  {
   "cell_type": "code",
   "execution_count": 58,
   "id": "f4b82914-5356-413c-a7dd-eab1f805f2b1",
   "metadata": {},
   "outputs": [],
   "source": [
    "test_img = mpimg.imread('png-clipart-surprise-facial-expression-web-design-graph-face-woman-web-design-hand-thumbnail.png')"
   ]
  },
  {
   "cell_type": "code",
   "execution_count": 59,
   "id": "5bc39773-e59d-4865-9511-f15bb2b259c8",
   "metadata": {},
   "outputs": [],
   "source": [
    "test_img = cv2.cvtColor(test_img , cv2.COLOR_BGR2GRAY)\n",
    "test_img = cv2.resize(test_img , (48, 48))"
   ]
  },
  {
   "cell_type": "code",
   "execution_count": 60,
   "id": "6b95b988-aaab-494e-84c2-cd254d7f1ddd",
   "metadata": {},
   "outputs": [],
   "source": [
    "test_img = test_img / 255"
   ]
  },
  {
   "cell_type": "code",
   "execution_count": 61,
   "id": "6514f9fd-2148-4140-9799-b3abe7e38fa3",
   "metadata": {},
   "outputs": [
    {
     "data": {
      "text/plain": [
       "<matplotlib.image.AxesImage at 0x29b5af24850>"
      ]
     },
     "execution_count": 61,
     "metadata": {},
     "output_type": "execute_result"
    },
    {
     "data": {
      "image/png": "[encoded data removed]",
      "text/plain": [
       "<Figure size 640x480 with 1 Axes>"
      ]
     },
     "metadata": {},
     "output_type": "display_data"
    }
   ],
   "source": [
    "plt.imshow(test_img)"
   ]
  },
  {
   "cell_type": "code",
   "execution_count": 62,
   "id": "4a7b4c0d-6faf-423f-9fda-565f79bb9a6c",
   "metadata": {},
   "outputs": [],
   "source": [
    "test_img = test_img.reshape(1, 48, 48, 1)"
   ]
  },
  {
   "cell_type": "code",
   "execution_count": 63,
   "id": "e6b0efba-7efd-4724-9639-eaa67370ff8f",
   "metadata": {},
   "outputs": [
    {
     "name": "stdout",
     "output_type": "stream",
     "text": [
      "\u001b[1m1/1\u001b[0m \u001b[32m━━━━━━━━━━━━━━━━━━━━\u001b[0m\u001b[37m\u001b[0m \u001b[1m0s\u001b[0m 89ms/step\n"
     ]
    }
   ],
   "source": [
    "pred = model.predict(test_img)"
   ]
  },
  {
   "cell_type": "code",
   "execution_count": 64,
   "id": "1cd3aaf6-4b5f-466a-93bd-08a3b2621ce5",
   "metadata": {},
   "outputs": [
    {
     "data": {
      "text/plain": [
       "array([[0.4739384 , 0.22750485, 0.7990593 , 0.2334317 , 0.294196  ,\n",
       "        0.8987102 , 0.2199711 ]], dtype=float32)"
      ]
     },
     "execution_count": 64,
     "metadata": {},
     "output_type": "execute_result"
    }
   ],
   "source": [
    "pred"
   ]
  },
  {
   "cell_type": "code",
   "execution_count": 57,
   "id": "a3d3e1b9-406c-41ab-b397-1098bfd9e117",
   "metadata": {},
   "outputs": [
    {
     "data": {
      "text/plain": [
       "array(['angry', 'disgusted', 'fearful', 'happy', 'neutral', 'sad',\n",
       "       'surprised'], dtype='<U9')"
      ]
     },
     "execution_count": 57,
     "metadata": {},
     "output_type": "execute_result"
    }
   ],
   "source": [
    "label.classes_"
   ]
  },
  {
   "cell_type": "code",
   "execution_count": 65,
   "id": "6199ecaf-9076-4d00-b857-c74f5205b838",
   "metadata": {},
   "outputs": [
    {
     "name": "stderr",
     "output_type": "stream",
     "text": [
      "WARNING:absl:You are saving your model as an HDF5 file via `model.save()` or `keras.saving.save_model(model)`. This file format is considered legacy. We recommend using instead the native Keras format, e.g. `model.save('my_model.keras')` or `keras.saving.save_model(model, 'my_model.keras')`. \n"
     ]
    }
   ],
   "source": [
    "model.save('emotion.h5')"
   ]
  },
  {
   "cell_type": "code",
   "execution_count": null,
   "id": "5481d112-2338-4615-a4ce-f3f21ef48a86",
   "metadata": {},
   "outputs": [],
   "source": []
  }
 ],
 "metadata": {
  "kernelspec": {
   "display_name": "Python 3 (ipykernel)",
   "language": "python",
   "name": "python3"
  },
  "language_info": {
   "codemirror_mode": {
    "name": "ipython",
    "version": 3
   },
   "file_extension": ".py",
   "mimetype": "text/x-python",
   "name": "python",
   "nbconvert_exporter": "python",
   "pygments_lexer": "ipython3",
   "version": "3.11.4"
  }
 },
 "nbformat": 4,
 "nbformat_minor": 5
}
